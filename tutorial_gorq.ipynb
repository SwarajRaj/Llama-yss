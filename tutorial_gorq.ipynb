{
 "cells": [
  {
   "cell_type": "code",
   "execution_count": 7,
   "id": "d3c5fffa-7160-4a7c-9451-454032858a3b",
   "metadata": {},
   "outputs": [
    {
     "name": "stdout",
     "output_type": "stream",
     "text": [
      "M.S. Dhoni, also known as Mahendra Singh Dhoni, is a former Indian international cricketer who is widely regarded as one of the greatest wicket-keeper batsmen in the history of the game. He was born on July 7, 1981, in Ranchi, Bihar (now Jharkhand), India.\n",
      "\n",
      "Dhoni made his international debut in 2004 and quickly established himself as a key player for the Indian cricket team. He is known for his exceptional leadership skills, innovative batting style, and impressive wicket-keeping abilities.\n",
      "\n",
      "Some of Dhoni's notable achievements include:\n",
      "\n",
      "1. **World Cup wins**: Dhoni led India to two major ICC tournament victories: the 2007 ICC World Twenty20 and the 2011 ICC Cricket World Cup.\n",
      "2. **Captaincy**: Dhoni was the captain of the Indian cricket team from 2007 to 2017, during which he led the team to numerous victories and became one of the most successful captains in Indian cricket history.\n",
      "3. **Wicket-keeping records**: Dhoni holds several wicket-keeping records, including the most dismissals by a wicket-keeper in international cricket (829).\n",
      "4. **Batting**: Dhoni is known for his aggressive batting style and has scored over 17,000 runs in international cricket, including 10 centuries and 73 half-centuries.\n",
      "5. **Awards and recognition**: Dhoni has received numerous awards and recognition for his contributions to cricket, including the Padma Bhushan (India's third-highest civilian award), the ICC ODI Player of the Year award, and the ESPNcricinfo's Cricketer of the Year award.\n",
      "\n",
      "Dhoni announced his retirement from international cricket in 2020, but he continues to play in the Indian Premier League (IPL) for the Chennai Super Kings, a team he has led to multiple championships.\n",
      "\n",
      "Off the field, Dhoni is known for his humble and down-to-earth personality, as well as his passion for motorcycles and sports cars. He has also been involved in various philanthropic activities, including supporting education and healthcare initiatives in his home state of Jharkhand.\n"
     ]
    }
   ],
   "source": [
    "from langchain_groq import ChatGroq\n",
    "\n",
    "llm = ChatGroq(\n",
    "    temperature=0,\n",
    "    model=\"llama-3.1-70b-versatile\",\n",
    "    groq_api_key = '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'\n",
    "    \n",
    "    # other params...\n",
    "    \n",
    ")\n",
    "response = llm.invoke(\"who is m s dhoni\")\n",
    "print(response.content)"
   ]
  },
  {
   "cell_type": "code",
   "execution_count": 2,
   "id": "f34bcd01-7812-475f-9cb3-93117d77dda0",
   "metadata": {},
   "outputs": [
    {
     "name": "stderr",
     "output_type": "stream",
     "text": [
      "USER_AGENT environment variable not set, consider setting it to identify your requests.\n"
     ]
    },
    {
     "name": "stdout",
     "output_type": "stream",
     "text": [
      "\n",
      "\n",
      "\n",
      "\n",
      "Machine Learning Engineer (AI Products) | Mercedes-Benz > Career > Job Search > Job Postings\n",
      "\n",
      "\n",
      "\n",
      "\n",
      "\n",
      "\n",
      "\n",
      "\n",
      "\n",
      "\n",
      "\n",
      "\n",
      "\n",
      "\n",
      "\n",
      "\n",
      "\n",
      "\n",
      "\n",
      "\n",
      "\n",
      "\n",
      "\n",
      "\n",
      "\n",
      "\n",
      "\n",
      "\n",
      "\n",
      "\n",
      "\n",
      "\n",
      "\n",
      "\n",
      "\n",
      "\n",
      "\n",
      "\n",
      "\n",
      "\n",
      "\n",
      "\n",
      "\n",
      "\n",
      "\n",
      "\n",
      "\n",
      "\n",
      "\n",
      "\n",
      "\n",
      "\n",
      "\n",
      "\n",
      "\n",
      "\n",
      "\n",
      "\n",
      "\n",
      "\n",
      "\n",
      "\n",
      "\n",
      "\n",
      "\n",
      "\n",
      "\n",
      "\n",
      "\n",
      " DE  EN Provider/PrivacyCompanyInnovationResponsibilityCareersInvestorsPressProductsCareersJob searchMachine Learning Engineer (AI Products)Job category:Forschung & Entwicklung incl. DesignDepartment:RD ChinaOrganization:Mercedes-Benz Group China Ltd.Location:Mercedes-Benz Group China Ltd., BeijingStart date:immediatelyPublication date:13.10.2024Job number:MER0003CK2Working time:Vollzeit ApplyTasksAs a world leading OEM, Mercedes-benz is looking for the experts who share the passion and enthusiasm to develop AI products in our MBOS. Specifically we are looking for self-motive, knowledgeable machine learning engineers who have a strong background in machine learning, large language model and their applications in automotive industry to join our team.\n",
      "Responsibilities:•    Design, develop, and maintain AI based automotive applications.•    Train, tune, and optimize machine learning and deep learning models to improve performance and efficiency.•    Build up LLM-based applications such as a RAG system within given context.•    Utilize techniques such as fine-tuning to improve the performance of large language models for a specific task.•    Collaborate with data engineers to develop data and model pipelines.•    Analyze and implement novel machine learning and deep learning techniques that could be used to solve a given problem\n",
      "QualificationsExperience and competence•    Master degree in Computer Science, Engineering, or a related subject.•    Proven experience as a Machine Learning Engineer or similar role.•    Experience with machine learning frameworks (like PyTorch or Tensorflow) and libraries (like scikit-learn).•    Proficient in Python and familiarity with Golang, Java or C++.•    Understanding of data structures and data modeling•    Extensive experience with machine learning, deep learning, and applications of large language models•    Experience in developing automotive applications is a plus•    Experience in deploying models on edge device is a plus•    Experience with cloud services (e.g., Azure, Tencent)\n",
      "•    Outstanding analytical and problem-solving skills.•    Technical leadership and ability to make decisions based on technical facts•    Strong sense of ownership and drive•    Good communication skills•    English skills in written and spokenBenefitsMit­arbeiter EventsFlexible Arbeits­zeit möglichHybrides Arbeiten möglichGesund­heits­maß­nahmenMobilitäts­angeboteMit­arbeiter­rabatte möglichBarriere­frei­heitGute An­bindungPark­platzBetriebs­arztKantine, CaféContactMercedes-Benz Group China Ltd.LSH Tower C, 8 Wangjing Street100102 BeijingDetails to locationHaibo Liu E-Mail: haibo.liu@mercedes-benz.com ApplyThe Mercedes-Benz Group.The Mercedes-Benz Group AG (former Daimler AG) is one of the world's most successful automotive companies. With Mercedes-Benz AG, we are one of the leading global suppliers of premium and luxury cars and vans. Mercedes-Benz Mobility AG offers financing, leasing, car subscription and car rental, fleet management, digital services for charging and payment, insurance brokerage, as well as innovative mobility services.Learn moreTechnical Support HotlineContactLocationsPodcastsProviderLegal NoticeSettingsPrivacy StatementThird Party License NoticeTerms & Conditions© 2023 Mercedes-Benz Group AG. All rights reserved.\n",
      "\n",
      "\n",
      "\n"
     ]
    }
   ],
   "source": [
    "from langchain_community.document_loaders import WebBaseLoader\n",
    "\n",
    "loader = WebBaseLoader(\"https://jobs.mercedes-benz.com/enUS/machine-learning-engineer-ai-products-140531-MER0003CK2\")\n",
    "page_data = loader.load().pop().page_content\n",
    "\n",
    "\n",
    "print(page_data)"
   ]
  },
  {
   "cell_type": "code",
   "execution_count": 3,
   "id": "6663a690-c7a9-4e8c-b5be-38d45fc3a819",
   "metadata": {},
   "outputs": [
    {
     "name": "stdout",
     "output_type": "stream",
     "text": [
      "Note: you may need to restart the kernel to use updated packages.\n"
     ]
    }
   ],
   "source": [
    "pip install -qU langchain_community beautifulsoup4"
   ]
  },
  {
   "cell_type": "code",
   "execution_count": 4,
   "id": "75bdc88d-4017-405e-8816-eeae745096ae",
   "metadata": {},
   "outputs": [
    {
     "name": "stdout",
     "output_type": "stream",
     "text": [
      "```\n",
      "{\n",
      "  \"role\": \"Machine Learning Engineer (AI Products)\",\n",
      "  \"experience\": \"Proven experience as a Machine Learning Engineer or similar role\",\n",
      "  \"skills\": [\n",
      "    \"Master degree in Computer Science, Engineering, or a related subject\",\n",
      "    \"Experience with machine learning frameworks (like PyTorch or Tensorflow) and libraries (like scikit-learn)\",\n",
      "    \"Proficient in Python and familiarity with Golang, Java or C++\",\n",
      "    \"Understanding of data structures and data modeling\",\n",
      "    \"Extensive experience with machine learning, deep learning, and applications of large language models\",\n",
      "    \"Experience in developing automotive applications is a plus\",\n",
      "    \"Experience in deploying models on edge device is a plus\",\n",
      "    \"Experience with cloud services (e.g., Azure, Tencent)\"\n",
      "  ],\n",
      "  \"description\": \"Design, develop, and maintain AI based automotive applications. Train, tune, and optimize machine learning and deep learning models to improve performance and efficiency. Build up LLM-based applications such as a RAG system within given context. Utilize techniques such as fine-tuning to improve the performance of large language models for a specific task. Collaborate with data engineers to develop data and model pipelines. Analyze and implement novel machine learning and deep learning techniques that could be used to solve a given problem\"\n",
      "}\n",
      "```\n"
     ]
    },
    {
     "data": {
      "text/plain": [
       "str"
      ]
     },
     "execution_count": 4,
     "metadata": {},
     "output_type": "execute_result"
    }
   ],
   "source": [
    "from langchain_core.prompts import PromptTemplate\n",
    "prompt_extract = PromptTemplate.from_template(\n",
    "    \"\"\"\n",
    "    ### SCRAPED TEXT FROM WEBSITE:\n",
    "\n",
    "    {page_data}\n",
    "\n",
    "    ### INSTRUCTION:\n",
    "\n",
    "    The scraped text is from the career's page of a website.\n",
    "\n",
    "    Your job is to extract the job postings and return them in JSON format containin following keys: role,xperience, skills and description. Only return the valid JSON.\n",
    "    \n",
    "    ### VALID JSON (NO PREAMBLE):\n",
    "    \"\"\"\n",
    ")\n",
    "chain_extract = prompt_extract | llm\n",
    "res = chain_extract.invoke(input={'page_data':page_data})\n",
    "print(res.content)\n",
    "type(res.content)\n"
   ]
  },
  {
   "cell_type": "code",
   "execution_count": 5,
   "id": "e91ccbde-db14-4055-a8e9-490136e10f20",
   "metadata": {},
   "outputs": [
    {
     "name": "stdout",
     "output_type": "stream",
     "text": [
      "{'role': 'Machine Learning Engineer (AI Products)', 'experience': 'Proven experience as a Machine Learning Engineer or similar role', 'skills': ['Master degree in Computer Science, Engineering, or a related subject', 'Experience with machine learning frameworks (like PyTorch or Tensorflow) and libraries (like scikit-learn)', 'Proficient in Python and familiarity with Golang, Java or C++', 'Understanding of data structures and data modeling', 'Extensive experience with machine learning, deep learning, and applications of large language models', 'Experience in developing automotive applications is a plus', 'Experience in deploying models on edge device is a plus', 'Experience with cloud services (e.g., Azure, Tencent)'], 'description': 'Design, develop, and maintain AI based automotive applications. Train, tune, and optimize machine learning and deep learning models to improve performance and efficiency. Build up LLM-based applications such as a RAG system within given context. Utilize techniques such as fine-tuning to improve the performance of large language models for a specific task. Collaborate with data engineers to develop data and model pipelines. Analyze and implement novel machine learning and deep learning techniques that could be used to solve a given problem'}\n"
     ]
    },
    {
     "data": {
      "text/plain": [
       "dict"
      ]
     },
     "execution_count": 5,
     "metadata": {},
     "output_type": "execute_result"
    }
   ],
   "source": [
    "from langchain_core.output_parsers import JsonOutputParser\n",
    "\n",
    "json_parser = JsonOutputParser()\n",
    "json_res = json_parser.parse(res.content)\n",
    "print(json_res)\n",
    "type(json_res)"
   ]
  },
  {
   "cell_type": "code",
   "execution_count": null,
   "id": "a46d2858-f5de-4f3f-bbf9-ef835aa35f03",
   "metadata": {},
   "outputs": [],
   "source": []
  },
  {
   "cell_type": "code",
   "execution_count": null,
   "id": "4ca88b7c-d453-4c7a-891b-4b380cc26eb6",
   "metadata": {},
   "outputs": [],
   "source": []
  },
  {
   "cell_type": "code",
   "execution_count": null,
   "id": "03482662-acaa-414c-8890-51b14ba343c1",
   "metadata": {},
   "outputs": [],
   "source": []
  },
  {
   "cell_type": "code",
   "execution_count": null,
   "id": "634194a7-5713-4123-b055-9fc36b6ec7c0",
   "metadata": {},
   "outputs": [],
   "source": []
  }
 ],
 "metadata": {
  "kernelspec": {
   "display_name": "Python 3",
   "language": "python",
   "name": "python3"
  },
  "language_info": {
   "codemirror_mode": {
    "name": "ipython",
    "version": 3
   },
   "file_extension": ".py",
   "mimetype": "text/x-python",
   "name": "python",
   "nbconvert_exporter": "python",
   "pygments_lexer": "ipython3",
   "version": "3.12.7"
  }
 },
 "nbformat": 4,
 "nbformat_minor": 5
}
