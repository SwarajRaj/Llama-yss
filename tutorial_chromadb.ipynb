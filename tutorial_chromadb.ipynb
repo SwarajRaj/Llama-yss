{
 "cells": [
  {
   "cell_type": "code",
   "execution_count": 1,
   "id": "2680ea5c-ffa5-45c9-8c07-ce870b45eba2",
   "metadata": {},
   "outputs": [],
   "source": [
    "import chromadb\n",
    "chroma_client = chromadb.Client()\n",
    "collection = chroma_client.create_collection(name=\"my_collection\")\n"
   ]
  },
  {
   "cell_type": "code",
   "execution_count": 2,
   "id": "d402bedc-b43a-4310-970f-e692776fe2ba",
   "metadata": {},
   "outputs": [],
   "source": [
    "collection.add(\n",
    "    documents=[\n",
    "        \"This is a document about india\",\n",
    "        \"This is a document about usa\"\n",
    "    ],\n",
    "    ids=[\"id3\", \"id4\"]\n",
    ")\n"
   ]
  },
  {
   "cell_type": "code",
   "execution_count": 3,
   "id": "c8da4ba9-3e8b-4a5b-937c-cb57e44b5266",
   "metadata": {},
   "outputs": [
    {
     "data": {
      "text/plain": [
       "{'ids': ['id3', 'id4'],\n",
       " 'embeddings': None,\n",
       " 'metadatas': [None, None],\n",
       " 'documents': ['This is a document about india',\n",
       "  'This is a document about usa'],\n",
       " 'uris': None,\n",
       " 'data': None,\n",
       " 'included': ['metadatas', 'documents']}"
      ]
     },
     "execution_count": 3,
     "metadata": {},
     "output_type": "execute_result"
    }
   ],
   "source": [
    "all_docs = collection.get()\n",
    "all_docs"
   ]
  },
  {
   "cell_type": "code",
   "execution_count": 19,
   "id": "16128300-b675-4163-bc79-b1a192a210bd",
   "metadata": {},
   "outputs": [
    {
     "data": {
      "text/plain": [
       "{'ids': ['id1'],\n",
       " 'embeddings': None,\n",
       " 'metadatas': [None],\n",
       " 'documents': ['This is a document about pineapple'],\n",
       " 'uris': None,\n",
       " 'data': None,\n",
       " 'included': ['metadatas', 'documents']}"
      ]
     },
     "execution_count": 19,
     "metadata": {},
     "output_type": "execute_result"
    }
   ],
   "source": [
    "documents = collection.get(ids=[\"id1\"])\n",
    "documents"
   ]
  },
  {
   "cell_type": "code",
   "execution_count": 24,
   "id": "2032d05c-2158-4ed5-ba7f-b5b1c29fa2aa",
   "metadata": {},
   "outputs": [
    {
     "data": {
      "text/plain": [
       "{'ids': [['id3', 'id4', 'id2', 'id1']],\n",
       " 'distances': [[0.8416885733604431,\n",
       "   1.544101357460022,\n",
       "   1.616085171699524,\n",
       "   1.6245951652526855]],\n",
       " 'metadatas': [[None, None, None, None]],\n",
       " 'embeddings': None,\n",
       " 'documents': [['This is a document about india',\n",
       "   'This is a document about usa',\n",
       "   'This is a document about oranges',\n",
       "   'This is a document about pineapple']],\n",
       " 'uris': None,\n",
       " 'data': None,\n",
       " 'included': ['metadatas', 'documents', 'distances']}"
      ]
     },
     "execution_count": 24,
     "metadata": {},
     "output_type": "execute_result"
    }
   ],
   "source": [
    "results = collection.query(query_texts = ['Query is about andhrapradesh'] , n_results =4)\n",
    "results"
   ]
  },
  {
   "cell_type": "code",
   "execution_count": 25,
   "id": "a2607ad6-3f38-4a58-a32e-524c27685045",
   "metadata": {},
   "outputs": [
    {
     "data": {
      "text/plain": [
       "{'ids': [],\n",
       " 'embeddings': None,\n",
       " 'metadatas': [],\n",
       " 'documents': [],\n",
       " 'uris': None,\n",
       " 'data': None,\n",
       " 'included': ['metadatas', 'documents']}"
      ]
     },
     "execution_count": 25,
     "metadata": {},
     "output_type": "execute_result"
    }
   ],
   "source": [
    "collection.delete(ids=all_docs['ids'])\n",
    "collection.get()"
   ]
  },
  {
   "cell_type": "code",
   "execution_count": 33,
   "id": "d590762b-5401-485a-be41-7df7c2467be4",
   "metadata": {},
   "outputs": [
    {
     "name": "stderr",
     "output_type": "stream",
     "text": [
      "Insert of existing embedding ID: id5\n",
      "Insert of existing embedding ID: id6\n",
      "Insert of existing embedding ID: id7\n",
      "Add of existing embedding ID: id5\n",
      "Add of existing embedding ID: id6\n",
      "Add of existing embedding ID: id7\n"
     ]
    }
   ],
   "source": [
    "collection.add(\n",
    "    documents=[\n",
    "        \"This is a document about AndhraPradesh\",\n",
    "        \"This is a document about newYork\",\n",
    "        \"This is a document about london\"\n",
    "        \n",
    "    ],\n",
    "    ids=[\"id5\", \"id6\",\"id7\"],\n",
    "    metadatas = [\n",
    "        {\"url\":\"https://en.wikipedia.org/wiki/Andhra_Pradesh\"},\n",
    "        {\"url\":\"https://en.wikipedia.org/wiki/New_York_City\"},\n",
    "        {\"url\":\"https://en.wikipedia.org/wiki/London\"}\n",
    "    ]\n",
    ")\n"
   ]
  },
  {
   "cell_type": "code",
   "execution_count": 36,
   "id": "9bac885b-daf1-4c89-8abf-740123be7e22",
   "metadata": {},
   "outputs": [
    {
     "data": {
      "text/plain": [
       "{'ids': [['id5', 'id6', 'id7']],\n",
       " 'distances': [[1.1628551483154297, 1.4811408519744873, 1.7316882610321045]],\n",
       " 'metadatas': [[{'url': 'https://en.wikipedia.org/wiki/Andhra_Pradesh'},\n",
       "   {'url': 'https://en.wikipedia.org/wiki/New_York_City'},\n",
       "   {'url': 'https://en.wikipedia.org/wiki/London'}]],\n",
       " 'embeddings': None,\n",
       " 'documents': [['This is a document about AndhraPradesh',\n",
       "   'This is a document about newYork',\n",
       "   'This is a document about london']],\n",
       " 'uris': None,\n",
       " 'data': None,\n",
       " 'included': ['metadatas', 'documents', 'distances']}"
      ]
     },
     "execution_count": 36,
     "metadata": {},
     "output_type": "execute_result"
    }
   ],
   "source": [
    "results = collection.query(query_texts = ['Query is about dasara'] , n_results =3)\n",
    "results"
   ]
  },
  {
   "cell_type": "code",
   "execution_count": null,
   "id": "a0476b92-d907-42b8-8f7a-9d7f350d40b4",
   "metadata": {},
   "outputs": [],
   "source": []
  }
 ],
 "metadata": {
  "kernelspec": {
   "display_name": "Python 3",
   "language": "python",
   "name": "python3"
  },
  "language_info": {
   "codemirror_mode": {
    "name": "ipython",
    "version": 3
   },
   "file_extension": ".py",
   "mimetype": "text/x-python",
   "name": "python",
   "nbconvert_exporter": "python",
   "pygments_lexer": "ipython3",
   "version": "3.12.7"
  }
 },
 "nbformat": 4,
 "nbformat_minor": 5
}
