{
 "cells": [
  {
   "cell_type": "code",
   "execution_count": 4,
   "id": "a9531a04-d64c-4421-accb-93d34d9c0759",
   "metadata": {},
   "outputs": [
    {
     "name": "stdout",
     "output_type": "stream",
     "text": [
      "The first person to discover a satellite was Galileo Galilei.  On January 7, 1610, Galileo discovered four moons (satellites) orbiting Jupiter: Io, Europa, Ganymede, and Callisto. These four moons are now known as the Galilean moons in his honor.\n"
     ]
    }
   ],
   "source": [
    "from langchain_groq import ChatGroq\n",
    "\n",
    "llm = ChatGroq(\n",
    "    temperature=0,\n",
    "    model=\"llama-3.1-70b-versatile\",\n",
    "    groq_api_key = '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'\n",
    "    \n",
    "    # other params...\n",
    ")\n",
    "response = llm.invoke(\"the first person discovered satellite.....\")\n",
    "print(response.content)"
   ]
  },
  {
   "cell_type": "code",
   "execution_count": 5,
   "id": "c2546b28-e029-4402-b0ff-1cf7338cee57",
   "metadata": {},
   "outputs": [
    {
     "name": "stdout",
     "output_type": "stream",
     "text": [
      "\n",
      "\n",
      "\n",
      "\n",
      "Machine Learning Engineer (AI Products) | Mercedes-Benz > Career > Job Search > Job Postings\n",
      "\n",
      "\n",
      "\n",
      "\n",
      "\n",
      "\n",
      "\n",
      "\n",
      "\n",
      "\n",
      "\n",
      "\n",
      "\n",
      "\n",
      "\n",
      "\n",
      "\n",
      "\n",
      "\n",
      "\n",
      "\n",
      "\n",
      "\n",
      "\n",
      "\n",
      "\n",
      "\n",
      "\n",
      "\n",
      "\n",
      "\n",
      "\n",
      "\n",
      "\n",
      "\n",
      "\n",
      "\n",
      "\n",
      "\n",
      "\n",
      "\n",
      "\n",
      "\n",
      "\n",
      "\n",
      "\n",
      "\n",
      "\n",
      "\n",
      "\n",
      "\n",
      "\n",
      "\n",
      "\n",
      "\n",
      "\n",
      "\n",
      "\n",
      "\n",
      "\n",
      "\n",
      "\n",
      "\n",
      "\n",
      "\n",
      "\n",
      "\n",
      "\n",
      "\n",
      " DE  EN Provider/PrivacyCompanyInnovationResponsibilityCareersInvestorsPressProductsCareersJob searchMachine Learning Engineer (AI Products)Job category:Forschung & Entwicklung incl. DesignDepartment:RD ChinaOrganization:Mercedes-Benz Group China Ltd.Location:Mercedes-Benz Group China Ltd., BeijingStart date:immediatelyPublication date:13.10.2024Job number:MER0003CK2Working time:Vollzeit ApplyTasksAs a world leading OEM, Mercedes-benz is looking for the experts who share the passion and enthusiasm to develop AI products in our MBOS. Specifically we are looking for self-motive, knowledgeable machine learning engineers who have a strong background in machine learning, large language model and their applications in automotive industry to join our team.\n",
      "Responsibilities:•    Design, develop, and maintain AI based automotive applications.•    Train, tune, and optimize machine learning and deep learning models to improve performance and efficiency.•    Build up LLM-based applications such as a RAG system within given context.•    Utilize techniques such as fine-tuning to improve the performance of large language models for a specific task.•    Collaborate with data engineers to develop data and model pipelines.•    Analyze and implement novel machine learning and deep learning techniques that could be used to solve a given problem\n",
      "QualificationsExperience and competence•    Master degree in Computer Science, Engineering, or a related subject.•    Proven experience as a Machine Learning Engineer or similar role.•    Experience with machine learning frameworks (like PyTorch or Tensorflow) and libraries (like scikit-learn).•    Proficient in Python and familiarity with Golang, Java or C++.•    Understanding of data structures and data modeling•    Extensive experience with machine learning, deep learning, and applications of large language models•    Experience in developing automotive applications is a plus•    Experience in deploying models on edge device is a plus•    Experience with cloud services (e.g., Azure, Tencent)\n",
      "•    Outstanding analytical and problem-solving skills.•    Technical leadership and ability to make decisions based on technical facts•    Strong sense of ownership and drive•    Good communication skills•    English skills in written and spokenBenefitsMit­arbeiter EventsFlexible Arbeits­zeit möglichHybrides Arbeiten möglichGesund­heits­maß­nahmenMobilitäts­angeboteMit­arbeiter­rabatte möglichBarriere­frei­heitGute An­bindungPark­platzBetriebs­arztKantine, CaféContactMercedes-Benz Group China Ltd.LSH Tower C, 8 Wangjing Street100102 BeijingDetails to locationHaibo Liu E-Mail: haibo.liu@mercedes-benz.com ApplyThe Mercedes-Benz Group.The Mercedes-Benz Group AG (former Daimler AG) is one of the world's most successful automotive companies. With Mercedes-Benz AG, we are one of the leading global suppliers of premium and luxury cars and vans. Mercedes-Benz Mobility AG offers financing, leasing, car subscription and car rental, fleet management, digital services for charging and payment, insurance brokerage, as well as innovative mobility services.Learn moreTechnical Support HotlineContactLocationsPodcastsProviderLegal NoticeSettingsPrivacy StatementThird Party License NoticeTerms & Conditions© 2023 Mercedes-Benz Group AG. All rights reserved.\n",
      "\n",
      "\n",
      "\n"
     ]
    }
   ],
   "source": [
    "from langchain_community.document_loaders import WebBaseLoader\n",
    "\n",
    "loader = WebBaseLoader(\"https://jobs.mercedes-benz.com/enUS/machine-learning-engineer-ai-products-140531-MER0003CK2\")\n",
    "page_data = loader.load().pop().page_content\n",
    "print(page_data)"
   ]
  },
  {
   "cell_type": "code",
   "execution_count": 6,
   "id": "54ac9c10-6fb8-4c64-983b-9f213b215f60",
   "metadata": {},
   "outputs": [
    {
     "name": "stdout",
     "output_type": "stream",
     "text": [
      "```\n",
      "{\n",
      "  \"role\": \"Machine Learning Engineer (AI Products)\",\n",
      "  \"experience\": \"Proven experience as a Machine Learning Engineer or similar role\",\n",
      "  \"skills\": [\n",
      "    \"Master degree in Computer Science, Engineering, or a related subject\",\n",
      "    \"Experience with machine learning frameworks (like PyTorch or Tensorflow) and libraries (like scikit-learn)\",\n",
      "    \"Proficient in Python and familiarity with Golang, Java or C++\",\n",
      "    \"Understanding of data structures and data modeling\",\n",
      "    \"Extensive experience with machine learning, deep learning, and applications of large language models\",\n",
      "    \"Experience in developing automotive applications is a plus\",\n",
      "    \"Experience in deploying models on edge device is a plus\",\n",
      "    \"Experience with cloud services (e.g., Azure, Tencent)\"\n",
      "  ],\n",
      "  \"description\": \"Design, develop, and maintain AI based automotive applications. Train, tune, and optimize machine learning and deep learning models to improve performance and efficiency. Build up LLM-based applications such as a RAG system within given context. Utilize techniques such as fine-tuning to improve the performance of large language models for a specific task. Collaborate with data engineers to develop data and model pipelines. Analyze and implement novel machine learning and deep learning techniques that could be used to solve a given problem\"\n",
      "}\n",
      "```\n"
     ]
    },
    {
     "data": {
      "text/plain": [
       "str"
      ]
     },
     "execution_count": 6,
     "metadata": {},
     "output_type": "execute_result"
    }
   ],
   "source": [
    "from langchain_core.prompts import PromptTemplate\n",
    "prompt_extract = PromptTemplate.from_template(\n",
    "    \"\"\"\n",
    "    ### SCRAPED TEXT FROM WEBSITE:\n",
    "\n",
    "    {page_data}\n",
    "\n",
    "    ### INSTRUCTION:\n",
    "\n",
    "    The scraped text is from the career's page of a website.\n",
    "\n",
    "    Your job is to extract the job postings and return them in JSON format containin following keys: role,xperience, skills and description. Only return the valid JSON.\n",
    "    \n",
    "    ### VALID JSON (NO PREAMBLE):\n",
    "    \"\"\"\n",
    ")\n",
    "chain_extract = prompt_extract | llm\n",
    "res = chain_extract.invoke(input={'page_data':page_data})\n",
    "print(res.content)\n",
    "type(res.content)\n"
   ]
  },
  {
   "cell_type": "code",
   "execution_count": 7,
   "id": "c96e5d74-0516-4e02-a15f-addee3d5692b",
   "metadata": {},
   "outputs": [
    {
     "name": "stdout",
     "output_type": "stream",
     "text": [
      "{'role': 'Machine Learning Engineer (AI Products)', 'experience': 'Proven experience as a Machine Learning Engineer or similar role', 'skills': ['Master degree in Computer Science, Engineering, or a related subject', 'Experience with machine learning frameworks (like PyTorch or Tensorflow) and libraries (like scikit-learn)', 'Proficient in Python and familiarity with Golang, Java or C++', 'Understanding of data structures and data modeling', 'Extensive experience with machine learning, deep learning, and applications of large language models', 'Experience in developing automotive applications is a plus', 'Experience in deploying models on edge device is a plus', 'Experience with cloud services (e.g., Azure, Tencent)'], 'description': 'Design, develop, and maintain AI based automotive applications. Train, tune, and optimize machine learning and deep learning models to improve performance and efficiency. Build up LLM-based applications such as a RAG system within given context. Utilize techniques such as fine-tuning to improve the performance of large language models for a specific task. Collaborate with data engineers to develop data and model pipelines. Analyze and implement novel machine learning and deep learning techniques that could be used to solve a given problem'}\n"
     ]
    },
    {
     "data": {
      "text/plain": [
       "dict"
      ]
     },
     "execution_count": 7,
     "metadata": {},
     "output_type": "execute_result"
    }
   ],
   "source": [
    "from langchain_core.output_parsers import JsonOutputParser\n",
    "\n",
    "json_parser = JsonOutputParser()\n",
    "json_res = json_parser.parse(res.content)\n",
    "print(json_res)\n",
    "type(json_res)"
   ]
  },
  {
   "cell_type": "code",
   "execution_count": 8,
   "id": "52cf893b-69b2-4019-9060-546c39e4ec7f",
   "metadata": {},
   "outputs": [
    {
     "data": {
      "text/html": [
       "<div>\n",
       "<style scoped>\n",
       "    .dataframe tbody tr th:only-of-type {\n",
       "        vertical-align: middle;\n",
       "    }\n",
       "\n",
       "    .dataframe tbody tr th {\n",
       "        vertical-align: top;\n",
       "    }\n",
       "\n",
       "    .dataframe thead th {\n",
       "        text-align: right;\n",
       "    }\n",
       "</style>\n",
       "<table border=\"1\" class=\"dataframe\">\n",
       "  <thead>\n",
       "    <tr style=\"text-align: right;\">\n",
       "      <th></th>\n",
       "      <th>Techstack</th>\n",
       "      <th>Links</th>\n",
       "    </tr>\n",
       "  </thead>\n",
       "  <tbody>\n",
       "    <tr>\n",
       "      <th>0</th>\n",
       "      <td>React, Node.js, MongoDB</td>\n",
       "      <td>https://example.com/react-portfolio</td>\n",
       "    </tr>\n",
       "    <tr>\n",
       "      <th>1</th>\n",
       "      <td>Angular,.NET, SQL Server</td>\n",
       "      <td>https://example.com/angular-portfolio</td>\n",
       "    </tr>\n",
       "    <tr>\n",
       "      <th>2</th>\n",
       "      <td>Vue.js, Ruby on Rails, PostgreSQL</td>\n",
       "      <td>https://example.com/vue-portfolio</td>\n",
       "    </tr>\n",
       "    <tr>\n",
       "      <th>3</th>\n",
       "      <td>Python, Django, MySQL</td>\n",
       "      <td>https://example.com/python-portfolio</td>\n",
       "    </tr>\n",
       "    <tr>\n",
       "      <th>4</th>\n",
       "      <td>Java, Spring Boot, Oracle</td>\n",
       "      <td>https://example.com/java-portfolio</td>\n",
       "    </tr>\n",
       "    <tr>\n",
       "      <th>5</th>\n",
       "      <td>Flutter, Firebase, GraphQL</td>\n",
       "      <td>https://example.com/flutter-portfolio</td>\n",
       "    </tr>\n",
       "    <tr>\n",
       "      <th>6</th>\n",
       "      <td>WordPress, PHP, MySQL</td>\n",
       "      <td>https://example.com/wordpress-portfolio</td>\n",
       "    </tr>\n",
       "    <tr>\n",
       "      <th>7</th>\n",
       "      <td>Magento, PHP, MySQL</td>\n",
       "      <td>https://example.com/magento-portfolio</td>\n",
       "    </tr>\n",
       "    <tr>\n",
       "      <th>8</th>\n",
       "      <td>React Native, Node.js, MongoDB</td>\n",
       "      <td>https://example.com/react-native-portfolio</td>\n",
       "    </tr>\n",
       "    <tr>\n",
       "      <th>9</th>\n",
       "      <td>iOS, Swift, Core Data</td>\n",
       "      <td>https://example.com/ios-portfolio</td>\n",
       "    </tr>\n",
       "    <tr>\n",
       "      <th>10</th>\n",
       "      <td>Android, Java, Room Persistence</td>\n",
       "      <td>https://example.com/android-portfolio</td>\n",
       "    </tr>\n",
       "    <tr>\n",
       "      <th>11</th>\n",
       "      <td>Kotlin, Android, Firebase</td>\n",
       "      <td>https://example.com/kotlin-android-portfolio</td>\n",
       "    </tr>\n",
       "    <tr>\n",
       "      <th>12</th>\n",
       "      <td>Android TV, Kotlin, Android NDK</td>\n",
       "      <td>https://example.com/android-tv-portfolio</td>\n",
       "    </tr>\n",
       "    <tr>\n",
       "      <th>13</th>\n",
       "      <td>iOS, Swift, ARKit</td>\n",
       "      <td>https://example.com/ios-ar-portfolio</td>\n",
       "    </tr>\n",
       "    <tr>\n",
       "      <th>14</th>\n",
       "      <td>Cross-platform, Xamarin, Azure</td>\n",
       "      <td>https://example.com/xamarin-portfolio</td>\n",
       "    </tr>\n",
       "    <tr>\n",
       "      <th>15</th>\n",
       "      <td>Backend, Kotlin, Spring Boot</td>\n",
       "      <td>https://example.com/kotlin-backend-portfolio</td>\n",
       "    </tr>\n",
       "    <tr>\n",
       "      <th>16</th>\n",
       "      <td>Frontend, TypeScript, Angular</td>\n",
       "      <td>https://example.com/typescript-frontend-portfolio</td>\n",
       "    </tr>\n",
       "    <tr>\n",
       "      <th>17</th>\n",
       "      <td>Full-stack, JavaScript, Express.js</td>\n",
       "      <td>https://example.com/full-stack-js-portfolio</td>\n",
       "    </tr>\n",
       "    <tr>\n",
       "      <th>18</th>\n",
       "      <td>Machine Learning, Python, TensorFlow</td>\n",
       "      <td>https://example.com/ml-python-portfolio</td>\n",
       "    </tr>\n",
       "    <tr>\n",
       "      <th>19</th>\n",
       "      <td>DevOps, Jenkins, Docker</td>\n",
       "      <td>https://example.com/devops-portfolio</td>\n",
       "    </tr>\n",
       "  </tbody>\n",
       "</table>\n",
       "</div>"
      ],
      "text/plain": [
       "                               Techstack  \\\n",
       "0                React, Node.js, MongoDB   \n",
       "1               Angular,.NET, SQL Server   \n",
       "2      Vue.js, Ruby on Rails, PostgreSQL   \n",
       "3                  Python, Django, MySQL   \n",
       "4              Java, Spring Boot, Oracle   \n",
       "5             Flutter, Firebase, GraphQL   \n",
       "6                  WordPress, PHP, MySQL   \n",
       "7                    Magento, PHP, MySQL   \n",
       "8         React Native, Node.js, MongoDB   \n",
       "9                  iOS, Swift, Core Data   \n",
       "10       Android, Java, Room Persistence   \n",
       "11             Kotlin, Android, Firebase   \n",
       "12       Android TV, Kotlin, Android NDK   \n",
       "13                     iOS, Swift, ARKit   \n",
       "14        Cross-platform, Xamarin, Azure   \n",
       "15          Backend, Kotlin, Spring Boot   \n",
       "16         Frontend, TypeScript, Angular   \n",
       "17    Full-stack, JavaScript, Express.js   \n",
       "18  Machine Learning, Python, TensorFlow   \n",
       "19               DevOps, Jenkins, Docker   \n",
       "\n",
       "                                                Links  \n",
       "0                 https://example.com/react-portfolio  \n",
       "1               https://example.com/angular-portfolio  \n",
       "2                   https://example.com/vue-portfolio  \n",
       "3                https://example.com/python-portfolio  \n",
       "4                  https://example.com/java-portfolio  \n",
       "5               https://example.com/flutter-portfolio  \n",
       "6             https://example.com/wordpress-portfolio  \n",
       "7               https://example.com/magento-portfolio  \n",
       "8          https://example.com/react-native-portfolio  \n",
       "9                   https://example.com/ios-portfolio  \n",
       "10              https://example.com/android-portfolio  \n",
       "11       https://example.com/kotlin-android-portfolio  \n",
       "12           https://example.com/android-tv-portfolio  \n",
       "13               https://example.com/ios-ar-portfolio  \n",
       "14              https://example.com/xamarin-portfolio  \n",
       "15       https://example.com/kotlin-backend-portfolio  \n",
       "16  https://example.com/typescript-frontend-portfolio  \n",
       "17        https://example.com/full-stack-js-portfolio  \n",
       "18            https://example.com/ml-python-portfolio  \n",
       "19               https://example.com/devops-portfolio  "
      ]
     },
     "execution_count": 8,
     "metadata": {},
     "output_type": "execute_result"
    }
   ],
   "source": [
    "import pandas as pd\n",
    "df = pd.read_csv(\"my_portfolio.csv\")\n",
    "df"
   ]
  },
  {
   "cell_type": "code",
   "execution_count": 9,
   "id": "14468ce3-7d21-4866-a42c-1a4783da220f",
   "metadata": {},
   "outputs": [],
   "source": [
    "import uuid\n",
    "import chromadb\n",
    "\n",
    "client = chromadb.PersistentClient('VectorStore')\n",
    "collection = client.get_or_create_collection(name=\"portfolio\")\n",
    "\n",
    "if not collection.count():\n",
    "    for _, row in df.iterrows():\n",
    "        collection.add(documents = row[\"Techstack\"],\n",
    "                    metadatas = {\"links\":row[\"Links\"]},\n",
    "                      ids =[str(uuid.uuid4())])\n",
    "    "
   ]
  },
  {
   "cell_type": "code",
   "execution_count": 10,
   "id": "0f94c7f3-a826-4f92-ad62-abcedcf9d088",
   "metadata": {},
   "outputs": [
    {
     "data": {
      "text/plain": [
       "[[{'links': 'https://example.com/java-portfolio'},\n",
       "  {'links': 'https://example.com/android-portfolio'},\n",
       "  {'links': 'https://example.com/kotlin-backend-portfolio'}]]"
      ]
     },
     "execution_count": 10,
     "metadata": {},
     "output_type": "execute_result"
    }
   ],
   "source": [
    "# Perform the query\n",
    "results = collection.query(query_texts=[\"Experience in java\"], n_results=3)\n",
    "\n",
    "# Extract the metadata\n",
    "links = results['metadatas']  # Use 'metadatas' instead of 'metadata'\n",
    "links\n"
   ]
  },
  {
   "cell_type": "code",
   "execution_count": 11,
   "id": "eeb72daa-5f9c-460f-9e06-81c579636ddd",
   "metadata": {},
   "outputs": [
    {
     "data": {
      "text/plain": [
       "['Master degree in Computer Science, Engineering, or a related subject',\n",
       " 'Experience with machine learning frameworks (like PyTorch or Tensorflow) and libraries (like scikit-learn)',\n",
       " 'Proficient in Python and familiarity with Golang, Java or C++',\n",
       " 'Understanding of data structures and data modeling',\n",
       " 'Extensive experience with machine learning, deep learning, and applications of large language models',\n",
       " 'Experience in developing automotive applications is a plus',\n",
       " 'Experience in deploying models on edge device is a plus',\n",
       " 'Experience with cloud services (e.g., Azure, Tencent)']"
      ]
     },
     "execution_count": 11,
     "metadata": {},
     "output_type": "execute_result"
    }
   ],
   "source": [
    "job = json_res\n",
    "job['skills']"
   ]
  },
  {
   "cell_type": "code",
   "execution_count": 12,
   "id": "ae4d6b99-fb20-4e1d-9ed7-5db34f1a5cbd",
   "metadata": {},
   "outputs": [
    {
     "data": {
      "text/plain": [
       "[[{'links': 'https://example.com/ml-python-portfolio'},\n",
       "  {'links': 'https://example.com/react-portfolio'},\n",
       "  {'links': 'https://example.com/xamarin-portfolio'}],\n",
       " [{'links': 'https://example.com/ml-python-portfolio'},\n",
       "  {'links': 'https://example.com/ios-ar-portfolio'},\n",
       "  {'links': 'https://example.com/python-portfolio'}],\n",
       " [{'links': 'https://example.com/ml-python-portfolio'},\n",
       "  {'links': 'https://example.com/python-portfolio'},\n",
       "  {'links': 'https://example.com/ios-ar-portfolio'}],\n",
       " [{'links': 'https://example.com/ios-portfolio'},\n",
       "  {'links': 'https://example.com/magento-portfolio'},\n",
       "  {'links': 'https://example.com/ml-python-portfolio'}],\n",
       " [{'links': 'https://example.com/ml-python-portfolio'},\n",
       "  {'links': 'https://example.com/python-portfolio'},\n",
       "  {'links': 'https://example.com/full-stack-js-portfolio'}],\n",
       " [{'links': 'https://example.com/ml-python-portfolio'},\n",
       "  {'links': 'https://example.com/full-stack-js-portfolio'},\n",
       "  {'links': 'https://example.com/magento-portfolio'}],\n",
       " [{'links': 'https://example.com/xamarin-portfolio'},\n",
       "  {'links': 'https://example.com/ios-ar-portfolio'},\n",
       "  {'links': 'https://example.com/android-portfolio'}],\n",
       " [{'links': 'https://example.com/xamarin-portfolio'},\n",
       "  {'links': 'https://example.com/devops-portfolio'},\n",
       "  {'links': 'https://example.com/angular-portfolio'}]]"
      ]
     },
     "execution_count": 12,
     "metadata": {},
     "output_type": "execute_result"
    }
   ],
   "source": [
    "results = collection.query(query_texts=job['skills'], n_results=3)\n",
    "\n",
    "# Extract the metadata\n",
    "links = results['metadatas']  # Use 'metadatas' instead of 'metadata'\n",
    "links"
   ]
  },
  {
   "cell_type": "code",
   "execution_count": 13,
   "id": "f6a00be4-d7cb-4013-a25c-630d19d5a9b3",
   "metadata": {},
   "outputs": [
    {
     "name": "stdout",
     "output_type": "stream",
     "text": [
      "Subject: Expert Machine Learning Solutions for Automotive Applications\n",
      "\n",
      "Dear Hiring Manager,\n",
      "\n",
      "I came across the job description for a Machine Learning Engineer (AI Products) and was impressed by the exciting opportunity to design, develop, and maintain AI-based automotive applications. As a representative of AtliQ, an AI & Software Consulting company, I'd like to highlight our capabilities in fulfilling your needs.\n",
      "\n",
      "At AtliQ, we have a proven track record of empowering numerous enterprises with tailored solutions, fostering scalability, process optimization, cost reduction, and heightened overall efficiency. Our team of experts has extensive experience in developing and deploying machine learning and deep learning models, including large language models.\n",
      "\n",
      "We'd like to showcase some of our relevant portfolio pieces that demonstrate our expertise in machine learning and Python:\n",
      "\n",
      "* https://example.com/ml-python-portfolio\n",
      "* https://example.com/python-portfolio\n",
      "\n",
      "Our team is well-versed in machine learning frameworks like PyTorch and TensorFlow, and we have experience with cloud services like Azure and Tencent. We're confident that our expertise in developing automotive applications, deploying models on edge devices, and fine-tuning large language models would be a great fit for your project.\n",
      "\n",
      "Some of our key strengths include:\n",
      "\n",
      "* Designing and developing AI-based automotive applications\n",
      "* Training, tuning, and optimizing machine learning and deep learning models\n",
      "* Building LLM-based applications, such as RAG systems\n",
      "* Collaborating with data engineers to develop data and model pipelines\n",
      "* Analyzing and implementing novel machine learning and deep learning techniques\n",
      "\n",
      "We'd love the opportunity to discuss how our expertise can help drive your project forward. Please feel free to reply to this email or schedule a call at your convenience.\n",
      "\n",
      "Best regards,\n",
      "\n",
      "Seshu Swaraj\n",
      "JAVA Development Executive\n",
      "AtliQ\n"
     ]
    }
   ],
   "source": [
    "prompt_email = PromptTemplate.from_template(\n",
    "     \"\"\"\n",
    "        ### JOB DESCRIPTION:\n",
    "        {job_description}\n",
    "        \n",
    "        ### INSTRUCTION:\n",
    "        You are Seshu Swaraj, a JAVA development executive at AtliQ. AtliQ is an AI & Software Consulting company dedicated to facilitating\n",
    "        the seamless integration of business processes through automated tools. \n",
    "        Over our experience, we have empowered numerous enterprises with tailored solutions, fostering scalability, \n",
    "        process optimization, cost reduction, and heightened overall efficiency. \n",
    "        Your job is to write a cold email to the client regarding the job mentioned above describing the capability of AtliQ \n",
    "        in fulfilling their needs.\n",
    "        Also add the most relevant ones from the following links to showcase Atliq's portfolio: {link_list}\n",
    "        Remember you are Mohan, BDE at AtliQ. \n",
    "        Do not provide a preamble.\n",
    "        ### EMAIL (NO PREAMBLE):\n",
    "        \n",
    "        \"\"\"\n",
    ")\n",
    "chain_email = prompt_email | llm\n",
    "res = chain_email.invoke({\"job_description\": str(job), \"link_list\": links})\n",
    "print(res.content)"
   ]
  },
  {
   "cell_type": "code",
   "execution_count": null,
   "id": "9b5bf773-d5b1-4771-93e1-987e8f4e74d2",
   "metadata": {},
   "outputs": [],
   "source": []
  }
 ],
 "metadata": {
  "kernelspec": {
   "display_name": "Python 3",
   "language": "python",
   "name": "python3"
  },
  "language_info": {
   "codemirror_mode": {
    "name": "ipython",
    "version": 3
   },
   "file_extension": ".py",
   "mimetype": "text/x-python",
   "name": "python",
   "nbconvert_exporter": "python",
   "pygments_lexer": "ipython3",
   "version": "3.12.7"
  }
 },
 "nbformat": 4,
 "nbformat_minor": 5
}
